{
 "cells": [
  {
   "cell_type": "code",
   "execution_count": 42,
   "metadata": {},
   "outputs": [],
   "source": [
    "import sys,json\n",
    "\n",
    "def read_json(args):\n",
    "    \"\"\"parse json\n",
    "        parameter json file path\n",
    "        return json data - dictionary\n",
    "    \"\"\"\n",
    "    try:\n",
    "        read_file = open(args, encoding='utf=8', mode='r')\n",
    "        jsonstring = \"\"\n",
    "        for i in read_file.readlines():\n",
    "            jsonstring = jsonstring + i\n",
    "        data=json.loads(jsonstring)\n",
    "    except json.decoder.JSONDecodeError:\n",
    "        read_file = open(args, encoding='utf=8', mode='r')\n",
    "        jsonstring = \"\"\n",
    "        for i in read_file.readlines():\n",
    "            jsonstring = jsonstring + i\n",
    "        if jsonstring[-1] == \"\\n\" and jsonstring[-2] == \",\":\n",
    "            jsonstring = jsonstring[:-2] + \"]}\"\n",
    "        data=json.loads(jsonstring)\n",
    "    return data"
   ]
  },
  {
   "cell_type": "code",
   "execution_count": 104,
   "metadata": {},
   "outputs": [],
   "source": [
    "#data=read_json('tinyTwitter.json')\n",
    "data=read_json('smallTwitter.json')\n",
    "#print(data['rows'][0]['doc']['entities']['hashtags'])"
   ]
  },
  {
   "cell_type": "code",
   "execution_count": null,
   "metadata": {},
   "outputs": [],
   "source": [
    "len(data['rows'])\n",
    "for i in range(100):\n",
    "    print(data['rows'][i]['doc']['lang'],'\\n')"
   ]
  },
  {
   "cell_type": "code",
   "execution_count": null,
   "metadata": {},
   "outputs": [],
   "source": [
    "for i in range(100):\n",
    "    if len(data['rows'][i]['doc']['entities']['hashtags'])>0:\n",
    "        print('id:'+str(i),'text:'+data['rows'][i]['doc']['text'],'tag:'+str(data['rows'][i]['doc']['entities']['hashtags']),'\\n')"
   ]
  },
  {
   "cell_type": "code",
   "execution_count": 105,
   "metadata": {},
   "outputs": [
    {
     "name": "stdout",
     "output_type": "stream",
     "text": [
      "Top  10  most  commonly  used hashtags:\n",
      " [('#scottyfrommarketing', 31), ('#auspol', 31), ('#climatechange', 29), ('#australiaburns', 24), ('#australianfires', 22), ('#sydnye', 19), ('#sonicmovie', 17), ('#goavsgo', 13), ('#nswfires', 12), ('#เป๊กผลิตโชค', 12)] \n",
      "\n",
      "Top  10  most  commonly  used languages:\n",
      " [('en', 4127), ('und', 302), ('pt', 101), ('fr', 92), ('th', 83), ('es', 61), ('ja', 32), ('tl', 27), ('in', 22), ('ko', 22)]\n"
     ]
    }
   ],
   "source": [
    "from collections import Counter\n",
    "\n",
    "hashtags=[]\n",
    "for i in range(len(data['rows'])):\n",
    "    if len(data['rows'][i]['doc']['entities']['hashtags'])>0:\n",
    "        for t in data['rows'][i]['doc']['entities']['hashtags']:\n",
    "            hashtags.append(t['text'])\n",
    "\n",
    "languages=[]\n",
    "for i in range(len(data['rows'])):\n",
    "    languages.append(data['rows'][i]['doc']['lang'])\n",
    "\n",
    "hashtags_count=Counter()\n",
    "languages_count=Counter()\n",
    "for i in hashtags:\n",
    "    hashtags_count['#'+i.lower()]+=1\n",
    "for i in languages:\n",
    "    languages_count[i]+=1\n",
    "print('Top  10  most  commonly  used hashtags:\\n',hashtags_count.most_common(10),'\\n')\n",
    "print('Top  10  most  commonly  used languages:\\n',languages_count.most_common(10))"
   ]
  },
  {
   "cell_type": "code",
   "execution_count": null,
   "metadata": {},
   "outputs": [],
   "source": []
  }
 ],
 "metadata": {
  "kernelspec": {
   "display_name": "Python 3",
   "language": "python",
   "name": "python3"
  },
  "language_info": {
   "codemirror_mode": {
    "name": "ipython",
    "version": 3
   },
   "file_extension": ".py",
   "mimetype": "text/x-python",
   "name": "python",
   "nbconvert_exporter": "python",
   "pygments_lexer": "ipython3",
   "version": "3.7.3"
  }
 },
 "nbformat": 4,
 "nbformat_minor": 2
}
